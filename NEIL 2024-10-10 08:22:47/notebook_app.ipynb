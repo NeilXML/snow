{
 "metadata": {
  "kernelspec": {
   "display_name": "Streamlit Notebook",
   "name": "streamlit"
  }
 },
 "nbformat_minor": 5,
 "nbformat": 4,
 "cells": [
  {
   "cell_type": "code",
   "id": "3775908f-ca36-4846-8f38-5adca39217f2",
   "metadata": {
    "language": "python",
    "name": "_02_init_session",
    "collapsed": false
   },
   "source": "# Import python packages\nimport streamlit as st\nimport pandas as pd\n\n# We can also use Snowpark for our analyses!\nfrom snowflake.snowpark.context import get_active_session\nsession = get_active_session()\n",
   "execution_count": null,
   "outputs": []
  },
  {
   "cell_type": "code",
   "id": "73cc67cd-6d9c-4f6e-9671-a13280c8167f",
   "metadata": {
    "language": "sql",
    "name": "_02_select_security_from_factset",
    "collapsed": false
   },
   "outputs": [],
   "source": "SELECT FSYM_ID, ACTUAL_VALUE, fe_fp_end \nfrom FACTSET_SHARE_DB.FE_V4.FE_BASIC_ACT_AF\nwhere FSYM_ID = 'WPGT6R-R';\nDROP TABLE IF EXISTS BOX.PUBLIC.\"write_pandas_permn_table\";\n",
   "execution_count": null
  },
  {
   "cell_type": "code",
   "id": "b1d1957f-a2e1-431d-b76b-bf81567adf75",
   "metadata": {
    "language": "python",
    "name": "_03_plot_stremlit",
    "collapsed": false
   },
   "outputs": [],
   "source": "# Then, we can use the python name to turn cell2 into a Pandas dataframe\ndf = _02_select_security_from_factset.to_pandas()\n\n# Chart the data\nst.subheader('FEs')\nst.line_chart(df, x='FE_FP_END', y='ACTUAL_VALUE')\n\n\n# Give it a go!\nst.subheader(\"Factset data set\")",
   "execution_count": null
  },
  {
   "cell_type": "code",
   "id": "581e8813-aa62-402c-b362-31ca7c761574",
   "metadata": {
    "language": "python",
    "name": "_04_write_df_to_snandbox_storage",
    "collapsed": false
   },
   "outputs": [],
   "source": "sess = session.write_pandas(df=df, database='BOX', schema='PUBLIC',table_name='write_pandas_temp_table', auto_create_table=True, table_type='temp')\nsess = session.write_pandas(df=df, database='BOX', schema='PUBLIC',table_name='write_pandas_permn_table', auto_create_table=True)\ndf2 = \n",
   "execution_count": null
  },
  {
   "cell_type": "code",
   "id": "0173c6bc-65e6-49a6-8151-196dc94b5f26",
   "metadata": {
    "language": "sql",
    "name": "_05_add_id_col",
    "collapsed": false
   },
   "outputs": [],
   "source": "ALTER TABLE BOX.PUBLIC.\"write_pandas_permn_table\"\nADD COLUMN primary_key int IDENTITY(1,1);",
   "execution_count": null
  },
  {
   "cell_type": "code",
   "id": "fae17e5f-cb78-4571-8919-59604c742541",
   "metadata": {
    "language": "sql",
    "name": "_05_create_curson_for_writeback",
    "collapsed": false
   },
   "outputs": [],
   "source": "\nLET c1 CURSOR FOR SELECT id FROM BOX.PUBLIC.write_pandas_temp_table WHERE fe_fp_end > ? AND fe_fp_end < ?;\nOPEN c1 USING (min_date, max_date);\n",
   "execution_count": null
  }
 ]
}